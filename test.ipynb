{
 "cells": [
  {
   "cell_type": "code",
   "execution_count": 4,
   "metadata": {},
   "outputs": [],
   "source": [
    "import numpy as np\n",
    "from matplotlib import pyplot as plt\n",
    "import seaborn\n",
    "seaborn.set()\n",
    "from random import shuffle\n",
    "\n",
    "from tqdm.notebook import trange, tqdm\n",
    "\n",
    "import torch\n",
    "import torch.nn as nn\n",
    "import torch.nn.functional as F\n",
    "import torch.optim as optim\n",
    "\n",
    "import torchvision\n",
    "import torchvision.transforms as transforms\n",
    "\n",
    "import einops\n",
    "# import pickle\n",
    "import os\n",
    "# import nibabel as nib\n",
    "# import skimage.transform as skTrans\n",
    "import numpy as np\n"
   ]
  },
  {
   "cell_type": "code",
   "execution_count": null,
   "metadata": {},
   "outputs": [],
   "source": [
    "#split train and dev data\n",
    "names = os.listdir('ct_train')\n",
    "shuffle(names)\n",
    "\n",
    "train_names = names[:int(len(names) * 0.8)]\n",
    "dev_names = names[int(len(names) * 0.8):]\n",
    "os.mkdir('train_data')\n",
    "for i in train_names:\n",
    "    os.rename('ct_train/' + i, 'train_data/' + i)\n",
    "    os.rename('ct_train_masks/' + i, 'train_data/' + i.split('.')[0] + '_seg.nii.gz')\n",
    "\n",
    "os.mkdir('dev_data')\n",
    "for i in dev_names:\n",
    "    os.rename('ct_train/' + i, 'dev_data/' + i)\n",
    "    os.rename('ct_train_masks/' + i, 'dev_data/' + i.split('.')[0] + '_seg.nii.gz')\n",
    "\n"
   ]
  },
  {
   "cell_type": "code",
   "execution_count": null,
   "metadata": {},
   "outputs": [],
   "source": [
    "# processing data to torch_dataset\n",
    "data = {'train': {}, 'dev': {}, 'test': {}}\n",
    "for p in ['train', 'dev']:\n",
    "    dir = p + '_data'\n",
    "    names = os.listdir(dir)\n",
    "    def get_resized_data(data_name):\n",
    "        im = nib.load(data_name)\n",
    "        result1 = skTrans.resize(im.get_fdata(), (32, 32, 32), order=1, preserve_range=True)\n",
    "        result1 = (result1 - result1.min()) / (result1.max() - result1.min())\n",
    "        print(im.get_fdata().shape)\n",
    "        if 'seg' in data_name:  \n",
    "            result1 = np.array(result1 > 0.5, dtype=float)\n",
    "        else:\n",
    "            pass\n",
    "        return result1\n",
    "\n",
    "    for name in tqdm(names):\n",
    "        A = get_resized_data(os.path.join(dir, name))\n",
    "        id = name.split('.')[0].replace('_seg', '')\n",
    "        if 'seg' in name:\n",
    "            if id in data[p]:\n",
    "                data[p][id]['label'] = A\n",
    "            else:\n",
    "                data[p][id] = {'label': A}\n",
    "        else:\n",
    "            if id in data[p]:\n",
    "                data[p][id]['data'] = A\n",
    "            else:\n",
    "                data[p][id] = {'data': A}\n",
    "\n",
    "            \n"
   ]
  },
  {
   "cell_type": "code",
   "execution_count": 5,
   "metadata": {},
   "outputs": [],
   "source": [
    "import torch\n",
    "from torch.utils.data import TensorDataset, DataLoader\n",
    "image = []\n",
    "label = []\n",
    "for _, d in data['train'].items():\n",
    "    if 'label' in d.keys() and 'data' in d.keys():\n",
    "        image.append(d['data'])\n",
    "        label.append(d['label'])\n",
    "\n",
    "image = torch.tensor(np.stack(image), dtype=torch.float32)\n",
    "label = torch.tensor(np.stack(label), dtype=torch.float32)\n",
    "train_dataset = TensorDataset(image, label)\n",
    "torch.save(train_dataset, 'train_dataset.pt')\n",
    "\n",
    "image = []\n",
    "label = []\n",
    "for _, d in data['dev'].items():\n",
    "    if 'label' in d.keys() and 'data' in d.keys():\n",
    "        image.append(d['data'])\n",
    "        label.append(d['label'])\n",
    "\n",
    "image = torch.tensor(np.stack(image), dtype=torch.float32)\n",
    "label = torch.tensor(np.stack(label), dtype=torch.float32)\n",
    "dev_dataset = TensorDataset(image, label)\n",
    "torch.save(dev_dataset, 'dev_dataset.pt')\n"
   ]
  },
  {
   "cell_type": "code",
   "execution_count": 3,
   "metadata": {},
   "outputs": [],
   "source": [
    "# torch_device = 'cuda' if torch.cuda.is_available() else 'cpu'\n",
    "torch_device = 'cuda'\n",
    "root_folder = r\".\""
   ]
  },
  {
   "cell_type": "code",
   "execution_count": 32,
   "metadata": {},
   "outputs": [],
   "source": [
    "def patchify(images, patch_size=4):\n",
    "    \"\"\"Splitting images into patches.\n",
    "    Args:\n",
    "        images: Input tensor with size (batch, channels, height, width)\n",
    "            We can assume that image is square where height == width.\n",
    "    Returns:\n",
    "        A batch of image patches with size (\n",
    "          batch, (height / patch_size) * (width / patch_size), \n",
    "        channels * patch_size * patch_size)\n",
    "    Hint: use einops.rearrange. The \"space-to-depth operation\" example at https://einops.rocks/api/rearrange/ \n",
    "    is not exactly what you need, but it gives a good idea of how to use rearrange.\n",
    "    \"\"\"\n",
    "    return einops.rearrange(\n",
    "        images,\n",
    "        'b (h p1) (w p2) (d p3) -> b (h w d) (p1 p2 p3)',\n",
    "        p1=patch_size,\n",
    "        p2=patch_size,\n",
    "        p3=patch_size\n",
    "    )\n",
    "\n",
    "def unpatchify(patches, patch_size=4):\n",
    "    \"\"\"Combining patches into images.\n",
    "    Args:\n",
    "        patches: Input tensor with size (\n",
    "        batch, (height / patch_size) * (width / patch_size), \n",
    "        channels * patch_size * patch_size)\n",
    "    Returns:\n",
    "        A batch of images with size (batch, channels, height, width)\n",
    "        \n",
    "    Hint: einops.rearrange can be used here as well.\n",
    "    \"\"\"\n",
    "    return einops.rearrange(\n",
    "        patches,\n",
    "        'b (h w d) (p1 p2 p3) -> b (h p1) (w p2) (d p3)',\n",
    "        p1=patch_size,\n",
    "        p2=patch_size,\n",
    "        p3=patch_size,\n",
    "        h=32 // patch_size,\n",
    "        w=32 // patch_size,\n",
    "        d=32 // patch_size\n",
    "    )\n",
    "\n"
   ]
  },
  {
   "cell_type": "code",
   "execution_count": 6,
   "metadata": {},
   "outputs": [],
   "source": [
    "\n",
    "class Transformer(nn.Module):\n",
    "    \"\"\"Transformer Encoder \n",
    "    Args:\n",
    "        embedding_dim: dimension of embedding\n",
    "        n_heads: number of attention heads\n",
    "        n_layers: number of attention layers\n",
    "        feedforward_dim: hidden dimension of MLP layer\n",
    "    Returns:\n",
    "        Transformer embedding of input\n",
    "    \"\"\"\n",
    "    def __init__(self, embedding_dim=256, n_heads=4, n_layers=4, feedforward_dim=1024):\n",
    "        super().__init__()\n",
    "        self.embedding_dim = embedding_dim\n",
    "        self.n_layers = n_layers\n",
    "        self.n_heads = n_heads\n",
    "        self.feedforward_dim = feedforward_dim\n",
    "        self.transformer = nn.TransformerEncoder(\n",
    "            nn.TransformerEncoderLayer(\n",
    "                d_model=embedding_dim,\n",
    "                nhead=self.n_heads,\n",
    "                dim_feedforward=self.feedforward_dim,\n",
    "                activation=F.gelu,\n",
    "                batch_first=True,\n",
    "                dropout=0.0,\n",
    "            ),\n",
    "            num_layers=n_layers,\n",
    "        )\n",
    "\n",
    "    def forward(self, x):\n",
    "        return self.transformer(x)\n",
    "\n",
    "batch_size = 32\n",
    "\n",
    "trainset = torch.load('train_dataset.pt')\n",
    "trainloader = torch.utils.data.DataLoader(trainset, batch_size=batch_size,\n",
    "                                          shuffle=True, num_workers=2)\n",
    "\n",
    "testset = torch.load('dev_dataset.pt')\n",
    "testloader = torch.utils.data.DataLoader(testset, batch_size=batch_size,\n",
    "                                         shuffle=False, num_workers=2)"
   ]
  },
  {
   "cell_type": "code",
   "execution_count": 7,
   "metadata": {},
   "outputs": [],
   "source": [
    "\n",
    "def index_sequence(x, ids):\n",
    "    \"\"\"Index tensor (x) with indices given by ids\n",
    "    Args:\n",
    "        x: input sequence tensor, can be 2D (batch x length) or 3D (batch x length x feature)\n",
    "        ids: 2D indices (batch x length) for re-indexing the sequence tensor\n",
    "    \"\"\"\n",
    "    if len(x.shape) == 3:\n",
    "        ids = ids.unsqueeze(-1).expand(-1, -1, x.shape[-1])\n",
    "    return torch.take_along_dim(x, ids, dim=1)\n",
    "\n",
    "def random_masking(x, keep_length, ids_shuffle):\n",
    "    \"\"\"Apply random masking on input tensor\n",
    "    Args:\n",
    "        x: input patches (batch x length x feature)\n",
    "        keep_length: length of unmasked patches\n",
    "        ids_shuffle: random indices for shuffling the input sequence. This is an\n",
    "            array of size (batch x length) where each row is a permutation of \n",
    "            [0, 1, ..., length-1]. We will pass this array to index_sequence function\n",
    "            to chooose the unmasked patches.\n",
    "    Returns:\n",
    "        kept: unmasked part of x\n",
    "        mask: a 2D (batch x length) mask tensor of 0s and 1s indicated which\n",
    "            part of x is masked out. The value 0 indicates not masked and 1\n",
    "            indicates masked.\n",
    "        ids_restore: indices to restore x. This is an array of size (batch x length).\n",
    "            If we take the kept part and masked\n",
    "            part of x, concatentate them together and index it with ids_restore,\n",
    "            we should get x back. (Hint: try using torch.argsort on the shuffle indices)\n",
    "\n",
    "    Hint:\n",
    "        ids_shuffle contains the indices used to shuffle the sequence (patches).\n",
    "        You should use the provided index_sequence function to re-index the\n",
    "        sequence, and keep the first keep_length number of patches.\n",
    "    \"\"\"\n",
    "    # BEGIN YOUR CODE\n",
    "    ids_broadcast = ids_shuffle[:, :, None].repeat(1, 1, x.shape[2])\n",
    "    x_shuffled = torch.gather(x, 1, ids_broadcast)\n",
    "    kept = x_shuffled[:, :keep_length]\n",
    "    ids_restore = torch.argsort(ids_shuffle)\n",
    "    mask = torch.zeros_like(ids_shuffle)\n",
    "    mask[:, :keep_length] = 1\n",
    "    mask = 1 - torch.gather(mask, 1, ids_restore)\n",
    "\n",
    "    return kept, mask, ids_restore\n",
    "\n",
    "\n",
    "    # END YOUR CODE\n",
    "\n",
    "def restore_masked(kept_x, masked_x, ids_restore):\n",
    "    \"\"\"Restore masked patches\n",
    "    Args:\n",
    "        kept_x: unmasked patches: (batch x keep_length x feature)\n",
    "        masked_x: masked patches: (batch x (length - keep_length) x feature)\n",
    "        ids_restore: indices to restore x: (batch x length)\n",
    "    Returns:\n",
    "        restored patches\n",
    "    Hint: call the index_sequence function on an array with the kept and masked tokens concatenated\n",
    "    \"\"\"\n",
    "    # BEGIN YOUR CODE\n",
    "    all_x = torch.concat([kept_x, masked_x], dim=1)\n",
    "    restored_x = torch.gather(all_x, 1, ids_restore[:, :, None].repeat(1, 1, all_x.shape[2]))\n",
    "    return restored_x\n",
    "\n",
    "    # END YOUR CODE"
   ]
  },
  {
   "cell_type": "code",
   "execution_count": 42,
   "metadata": {},
   "outputs": [
    {
     "data": {
      "application/vnd.jupyter.widget-view+json": {
       "model_id": "dd467b92451d47a8a2fd68b9f2b0a209",
       "version_major": 2,
       "version_minor": 0
      },
      "text/plain": [
       "  0%|          | 0/50 [00:00<?, ?it/s]"
      ]
     },
     "metadata": {},
     "output_type": "display_data"
    },
    {
     "data": {
      "application/vnd.jupyter.widget-view+json": {
       "model_id": "90f2ad105fd24883b3483d38346667e6",
       "version_major": 2,
       "version_minor": 0
      },
      "text/plain": [
       "  0%|          | 0/179 [00:00<?, ?it/s]"
      ]
     },
     "metadata": {},
     "output_type": "display_data"
    },
    {
     "data": {
      "application/vnd.jupyter.widget-view+json": {
       "model_id": "2f4f077b78754035848508d266d03387",
       "version_major": 2,
       "version_minor": 0
      },
      "text/plain": [
       "  0%|          | 0/179 [00:00<?, ?it/s]"
      ]
     },
     "metadata": {},
     "output_type": "display_data"
    },
    {
     "data": {
      "application/vnd.jupyter.widget-view+json": {
       "model_id": "b28a17ccddb64e80b677683feb7c4cb1",
       "version_major": 2,
       "version_minor": 0
      },
      "text/plain": [
       "  0%|          | 0/179 [00:00<?, ?it/s]"
      ]
     },
     "metadata": {},
     "output_type": "display_data"
    },
    {
     "data": {
      "application/vnd.jupyter.widget-view+json": {
       "model_id": "432f241c431f436f9aea6304755c372d",
       "version_major": 2,
       "version_minor": 0
      },
      "text/plain": [
       "  0%|          | 0/179 [00:00<?, ?it/s]"
      ]
     },
     "metadata": {},
     "output_type": "display_data"
    },
    {
     "data": {
      "application/vnd.jupyter.widget-view+json": {
       "model_id": "8cc44c11d8064e43b47a85c4888ca01e",
       "version_major": 2,
       "version_minor": 0
      },
      "text/plain": [
       "  0%|          | 0/179 [00:00<?, ?it/s]"
      ]
     },
     "metadata": {},
     "output_type": "display_data"
    },
    {
     "data": {
      "application/vnd.jupyter.widget-view+json": {
       "model_id": "072c83427a074b1e8332394f74e8fa8c",
       "version_major": 2,
       "version_minor": 0
      },
      "text/plain": [
       "  0%|          | 0/179 [00:00<?, ?it/s]"
      ]
     },
     "metadata": {},
     "output_type": "display_data"
    },
    {
     "data": {
      "application/vnd.jupyter.widget-view+json": {
       "model_id": "583addeefb3a44b7a6f6f946692235a9",
       "version_major": 2,
       "version_minor": 0
      },
      "text/plain": [
       "  0%|          | 0/179 [00:00<?, ?it/s]"
      ]
     },
     "metadata": {},
     "output_type": "display_data"
    },
    {
     "data": {
      "application/vnd.jupyter.widget-view+json": {
       "model_id": "64a5f1ce47f448ce926f71fe5c602f7d",
       "version_major": 2,
       "version_minor": 0
      },
      "text/plain": [
       "  0%|          | 0/179 [00:00<?, ?it/s]"
      ]
     },
     "metadata": {},
     "output_type": "display_data"
    },
    {
     "data": {
      "application/vnd.jupyter.widget-view+json": {
       "model_id": "b885dd59d70348c0bb35ebabe71f4316",
       "version_major": 2,
       "version_minor": 0
      },
      "text/plain": [
       "  0%|          | 0/179 [00:00<?, ?it/s]"
      ]
     },
     "metadata": {},
     "output_type": "display_data"
    },
    {
     "data": {
      "application/vnd.jupyter.widget-view+json": {
       "model_id": "094b13699596497a8cca87675a84c699",
       "version_major": 2,
       "version_minor": 0
      },
      "text/plain": [
       "  0%|          | 0/179 [00:00<?, ?it/s]"
      ]
     },
     "metadata": {},
     "output_type": "display_data"
    },
    {
     "data": {
      "application/vnd.jupyter.widget-view+json": {
       "model_id": "7bfaf06435f3464ab825def9ee80fa65",
       "version_major": 2,
       "version_minor": 0
      },
      "text/plain": [
       "  0%|          | 0/179 [00:00<?, ?it/s]"
      ]
     },
     "metadata": {},
     "output_type": "display_data"
    },
    {
     "data": {
      "application/vnd.jupyter.widget-view+json": {
       "model_id": "cd027e7787514247acf1c540a64839fb",
       "version_major": 2,
       "version_minor": 0
      },
      "text/plain": [
       "  0%|          | 0/179 [00:00<?, ?it/s]"
      ]
     },
     "metadata": {},
     "output_type": "display_data"
    },
    {
     "data": {
      "application/vnd.jupyter.widget-view+json": {
       "model_id": "e3643c6f4f924eb2aac01fb860ff8dbb",
       "version_major": 2,
       "version_minor": 0
      },
      "text/plain": [
       "  0%|          | 0/179 [00:00<?, ?it/s]"
      ]
     },
     "metadata": {},
     "output_type": "display_data"
    },
    {
     "data": {
      "application/vnd.jupyter.widget-view+json": {
       "model_id": "fdf073f5fe894e248223903362e9d2f6",
       "version_major": 2,
       "version_minor": 0
      },
      "text/plain": [
       "  0%|          | 0/179 [00:00<?, ?it/s]"
      ]
     },
     "metadata": {},
     "output_type": "display_data"
    },
    {
     "data": {
      "application/vnd.jupyter.widget-view+json": {
       "model_id": "546122410ce940379aae5ae8a1be0bf8",
       "version_major": 2,
       "version_minor": 0
      },
      "text/plain": [
       "  0%|          | 0/179 [00:00<?, ?it/s]"
      ]
     },
     "metadata": {},
     "output_type": "display_data"
    },
    {
     "data": {
      "application/vnd.jupyter.widget-view+json": {
       "model_id": "de2ed2665aa8442b87a2746b84a54e9b",
       "version_major": 2,
       "version_minor": 0
      },
      "text/plain": [
       "  0%|          | 0/179 [00:00<?, ?it/s]"
      ]
     },
     "metadata": {},
     "output_type": "display_data"
    },
    {
     "data": {
      "application/vnd.jupyter.widget-view+json": {
       "model_id": "83b9b81a3cb143fe9e2007fcdc62378f",
       "version_major": 2,
       "version_minor": 0
      },
      "text/plain": [
       "  0%|          | 0/179 [00:00<?, ?it/s]"
      ]
     },
     "metadata": {},
     "output_type": "display_data"
    },
    {
     "data": {
      "application/vnd.jupyter.widget-view+json": {
       "model_id": "47e4bb0f29cc49f2a621bafe78142ed5",
       "version_major": 2,
       "version_minor": 0
      },
      "text/plain": [
       "  0%|          | 0/179 [00:00<?, ?it/s]"
      ]
     },
     "metadata": {},
     "output_type": "display_data"
    },
    {
     "data": {
      "application/vnd.jupyter.widget-view+json": {
       "model_id": "3af940f0a34641ae806e9af803c06f0d",
       "version_major": 2,
       "version_minor": 0
      },
      "text/plain": [
       "  0%|          | 0/179 [00:00<?, ?it/s]"
      ]
     },
     "metadata": {},
     "output_type": "display_data"
    },
    {
     "data": {
      "application/vnd.jupyter.widget-view+json": {
       "model_id": "958d426d07514358a7c699e9a2bb2ed5",
       "version_major": 2,
       "version_minor": 0
      },
      "text/plain": [
       "  0%|          | 0/179 [00:00<?, ?it/s]"
      ]
     },
     "metadata": {},
     "output_type": "display_data"
    },
    {
     "data": {
      "application/vnd.jupyter.widget-view+json": {
       "model_id": "3b5455f30bcd4ab58d7c5f350fd9bfd4",
       "version_major": 2,
       "version_minor": 0
      },
      "text/plain": [
       "  0%|          | 0/179 [00:00<?, ?it/s]"
      ]
     },
     "metadata": {},
     "output_type": "display_data"
    },
    {
     "data": {
      "application/vnd.jupyter.widget-view+json": {
       "model_id": "99c41ec50551442e9863514f817576de",
       "version_major": 2,
       "version_minor": 0
      },
      "text/plain": [
       "  0%|          | 0/179 [00:00<?, ?it/s]"
      ]
     },
     "metadata": {},
     "output_type": "display_data"
    },
    {
     "data": {
      "application/vnd.jupyter.widget-view+json": {
       "model_id": "f1fabced5fe04cb8bc437dadf7d5725f",
       "version_major": 2,
       "version_minor": 0
      },
      "text/plain": [
       "  0%|          | 0/179 [00:00<?, ?it/s]"
      ]
     },
     "metadata": {},
     "output_type": "display_data"
    },
    {
     "data": {
      "application/vnd.jupyter.widget-view+json": {
       "model_id": "6ea54a6ef43144c6bc55d7ecb281b88c",
       "version_major": 2,
       "version_minor": 0
      },
      "text/plain": [
       "  0%|          | 0/179 [00:00<?, ?it/s]"
      ]
     },
     "metadata": {},
     "output_type": "display_data"
    },
    {
     "data": {
      "application/vnd.jupyter.widget-view+json": {
       "model_id": "00aed92ea46f4af399a75e406ca2417c",
       "version_major": 2,
       "version_minor": 0
      },
      "text/plain": [
       "  0%|          | 0/179 [00:00<?, ?it/s]"
      ]
     },
     "metadata": {},
     "output_type": "display_data"
    },
    {
     "data": {
      "application/vnd.jupyter.widget-view+json": {
       "model_id": "3481da2d675e41fdb700343640aca665",
       "version_major": 2,
       "version_minor": 0
      },
      "text/plain": [
       "  0%|          | 0/179 [00:00<?, ?it/s]"
      ]
     },
     "metadata": {},
     "output_type": "display_data"
    },
    {
     "data": {
      "application/vnd.jupyter.widget-view+json": {
       "model_id": "0795538bd6954c8fafa96c5a63e30c35",
       "version_major": 2,
       "version_minor": 0
      },
      "text/plain": [
       "  0%|          | 0/179 [00:00<?, ?it/s]"
      ]
     },
     "metadata": {},
     "output_type": "display_data"
    },
    {
     "data": {
      "application/vnd.jupyter.widget-view+json": {
       "model_id": "b63cb7daebaf42f3aad7feab2ff669ee",
       "version_major": 2,
       "version_minor": 0
      },
      "text/plain": [
       "  0%|          | 0/179 [00:00<?, ?it/s]"
      ]
     },
     "metadata": {},
     "output_type": "display_data"
    },
    {
     "data": {
      "application/vnd.jupyter.widget-view+json": {
       "model_id": "9633697c3ad54f05a3238c17b2cff060",
       "version_major": 2,
       "version_minor": 0
      },
      "text/plain": [
       "  0%|          | 0/179 [00:00<?, ?it/s]"
      ]
     },
     "metadata": {},
     "output_type": "display_data"
    },
    {
     "data": {
      "application/vnd.jupyter.widget-view+json": {
       "model_id": "5512d69049704fc294d4a277798d4fa2",
       "version_major": 2,
       "version_minor": 0
      },
      "text/plain": [
       "  0%|          | 0/179 [00:00<?, ?it/s]"
      ]
     },
     "metadata": {},
     "output_type": "display_data"
    },
    {
     "data": {
      "application/vnd.jupyter.widget-view+json": {
       "model_id": "ceb71098aeb74685b0717977af46fb0a",
       "version_major": 2,
       "version_minor": 0
      },
      "text/plain": [
       "  0%|          | 0/179 [00:00<?, ?it/s]"
      ]
     },
     "metadata": {},
     "output_type": "display_data"
    },
    {
     "data": {
      "application/vnd.jupyter.widget-view+json": {
       "model_id": "515360ffccef4d99bed252ee9575a94a",
       "version_major": 2,
       "version_minor": 0
      },
      "text/plain": [
       "  0%|          | 0/179 [00:00<?, ?it/s]"
      ]
     },
     "metadata": {},
     "output_type": "display_data"
    },
    {
     "data": {
      "application/vnd.jupyter.widget-view+json": {
       "model_id": "985d26ac910a4338a6a5d7dd2437b534",
       "version_major": 2,
       "version_minor": 0
      },
      "text/plain": [
       "  0%|          | 0/179 [00:00<?, ?it/s]"
      ]
     },
     "metadata": {},
     "output_type": "display_data"
    },
    {
     "data": {
      "application/vnd.jupyter.widget-view+json": {
       "model_id": "fcb8134db9a243bfac97c0eef4a548df",
       "version_major": 2,
       "version_minor": 0
      },
      "text/plain": [
       "  0%|          | 0/179 [00:00<?, ?it/s]"
      ]
     },
     "metadata": {},
     "output_type": "display_data"
    },
    {
     "data": {
      "application/vnd.jupyter.widget-view+json": {
       "model_id": "93984309187048228086e3d123a363b7",
       "version_major": 2,
       "version_minor": 0
      },
      "text/plain": [
       "  0%|          | 0/179 [00:00<?, ?it/s]"
      ]
     },
     "metadata": {},
     "output_type": "display_data"
    },
    {
     "data": {
      "application/vnd.jupyter.widget-view+json": {
       "model_id": "6f0dc111f6604383a60a312d3e68af50",
       "version_major": 2,
       "version_minor": 0
      },
      "text/plain": [
       "  0%|          | 0/179 [00:00<?, ?it/s]"
      ]
     },
     "metadata": {},
     "output_type": "display_data"
    },
    {
     "data": {
      "application/vnd.jupyter.widget-view+json": {
       "model_id": "dc1e78de2e18486590e42674df9658cd",
       "version_major": 2,
       "version_minor": 0
      },
      "text/plain": [
       "  0%|          | 0/179 [00:00<?, ?it/s]"
      ]
     },
     "metadata": {},
     "output_type": "display_data"
    },
    {
     "data": {
      "application/vnd.jupyter.widget-view+json": {
       "model_id": "f07cedb36ff04797a11ae4b8e9b012d9",
       "version_major": 2,
       "version_minor": 0
      },
      "text/plain": [
       "  0%|          | 0/179 [00:00<?, ?it/s]"
      ]
     },
     "metadata": {},
     "output_type": "display_data"
    },
    {
     "data": {
      "application/vnd.jupyter.widget-view+json": {
       "model_id": "1da4d9ae0aea4ec4b4ef3a2db38bd0c9",
       "version_major": 2,
       "version_minor": 0
      },
      "text/plain": [
       "  0%|          | 0/179 [00:00<?, ?it/s]"
      ]
     },
     "metadata": {},
     "output_type": "display_data"
    },
    {
     "data": {
      "application/vnd.jupyter.widget-view+json": {
       "model_id": "66f8ce07e99b4ce295f0df41603af4bf",
       "version_major": 2,
       "version_minor": 0
      },
      "text/plain": [
       "  0%|          | 0/179 [00:00<?, ?it/s]"
      ]
     },
     "metadata": {},
     "output_type": "display_data"
    },
    {
     "data": {
      "application/vnd.jupyter.widget-view+json": {
       "model_id": "c366354cb6cf4630937ce169f16cf404",
       "version_major": 2,
       "version_minor": 0
      },
      "text/plain": [
       "  0%|          | 0/179 [00:00<?, ?it/s]"
      ]
     },
     "metadata": {},
     "output_type": "display_data"
    },
    {
     "data": {
      "application/vnd.jupyter.widget-view+json": {
       "model_id": "f2edef7320e74ede8ca44bf5ed5db19f",
       "version_major": 2,
       "version_minor": 0
      },
      "text/plain": [
       "  0%|          | 0/179 [00:00<?, ?it/s]"
      ]
     },
     "metadata": {},
     "output_type": "display_data"
    },
    {
     "data": {
      "application/vnd.jupyter.widget-view+json": {
       "model_id": "df663b5a5e2e4355a3082e6693e30f02",
       "version_major": 2,
       "version_minor": 0
      },
      "text/plain": [
       "  0%|          | 0/179 [00:00<?, ?it/s]"
      ]
     },
     "metadata": {},
     "output_type": "display_data"
    },
    {
     "data": {
      "application/vnd.jupyter.widget-view+json": {
       "model_id": "618583b090f042bbaf332091a7b38fd0",
       "version_major": 2,
       "version_minor": 0
      },
      "text/plain": [
       "  0%|          | 0/179 [00:00<?, ?it/s]"
      ]
     },
     "metadata": {},
     "output_type": "display_data"
    },
    {
     "data": {
      "application/vnd.jupyter.widget-view+json": {
       "model_id": "f44c02abaf0f4e00af137fb6861a1fef",
       "version_major": 2,
       "version_minor": 0
      },
      "text/plain": [
       "  0%|          | 0/179 [00:00<?, ?it/s]"
      ]
     },
     "metadata": {},
     "output_type": "display_data"
    },
    {
     "data": {
      "application/vnd.jupyter.widget-view+json": {
       "model_id": "ce68dcb3f85a432ea89b25197e3216b3",
       "version_major": 2,
       "version_minor": 0
      },
      "text/plain": [
       "  0%|          | 0/179 [00:00<?, ?it/s]"
      ]
     },
     "metadata": {},
     "output_type": "display_data"
    },
    {
     "data": {
      "application/vnd.jupyter.widget-view+json": {
       "model_id": "52ed7c2d8d8643538c2f71224d34d5db",
       "version_major": 2,
       "version_minor": 0
      },
      "text/plain": [
       "  0%|          | 0/179 [00:00<?, ?it/s]"
      ]
     },
     "metadata": {},
     "output_type": "display_data"
    },
    {
     "data": {
      "application/vnd.jupyter.widget-view+json": {
       "model_id": "5a8592a5da1d4b4aa9adc8d7b5ba8241",
       "version_major": 2,
       "version_minor": 0
      },
      "text/plain": [
       "  0%|          | 0/179 [00:00<?, ?it/s]"
      ]
     },
     "metadata": {},
     "output_type": "display_data"
    },
    {
     "data": {
      "application/vnd.jupyter.widget-view+json": {
       "model_id": "2694dd86b3ff4af18842a23453534115",
       "version_major": 2,
       "version_minor": 0
      },
      "text/plain": [
       "  0%|          | 0/179 [00:00<?, ?it/s]"
      ]
     },
     "metadata": {},
     "output_type": "display_data"
    },
    {
     "data": {
      "application/vnd.jupyter.widget-view+json": {
       "model_id": "1d39463672a84dd88fdab70d9647e3c3",
       "version_major": 2,
       "version_minor": 0
      },
      "text/plain": [
       "  0%|          | 0/179 [00:00<?, ?it/s]"
      ]
     },
     "metadata": {},
     "output_type": "display_data"
    },
    {
     "data": {
      "text/plain": [
       "Text(0.5, 1.0, 'MAE Train Loss')"
      ]
     },
     "execution_count": 42,
     "metadata": {},
     "output_type": "execute_result"
    },
    {
     "data": {
      "image/png": "[encoded data removed]",
      "text/plain": [
       "<Figure size 432x288 with 1 Axes>"
      ]
     },
     "metadata": {},
     "output_type": "display_data"
    }
   ],
   "source": [
    "\n",
    "class MaskedAutoEncoder(nn.Module):\n",
    "    \"\"\"MAE Encoder\n",
    "    Args:\n",
    "        encoder: vit encoder\n",
    "        decoder: vit decoder\n",
    "        encoder_embedding_dim: embedding size of encoder\n",
    "        decoder_embedding_dim: embedding size of decoder\n",
    "        patch_size: image patch size\n",
    "        num_patches: number of patches\n",
    "        mask_ratio: percentage of masked patches\n",
    "    \"\"\"\n",
    "    def __init__(self, encoder, decoder, encoder_embedding_dim=256, \n",
    "                 decoder_embedding_dim=128, patch_size=4, num_patches=8,\n",
    "                 mask_ratio=0.75):\n",
    "        super().__init__()\n",
    "        self.encoder_embedding_dim = encoder_embedding_dim\n",
    "        self.decoder_embedding_dim = decoder_embedding_dim\n",
    "        self.patch_size = patch_size\n",
    "        self.num_patches = num_patches\n",
    "        self.mask_ratio = mask_ratio\n",
    "\n",
    "        self.masked_length = int(num_patches * mask_ratio)\n",
    "        self.keep_length = num_patches - self.masked_length\n",
    "\n",
    "        self.encoder = encoder\n",
    "        self.decoder = decoder\n",
    "\n",
    "        self.encoder_input_projection = nn.Linear(patch_size * patch_size * patch_size, encoder_embedding_dim)\n",
    "        self.decoder_input_projection = nn.Linear(encoder_embedding_dim, decoder_embedding_dim)\n",
    "        self.decoder_output_projection = nn.Linear(decoder_embedding_dim, patch_size * patch_size * patch_size)\n",
    "        self.cls_token = nn.Parameter(torch.randn(1, 1, encoder_embedding_dim) * 0.02)\n",
    "        self.encoder_position_encoding = nn.Parameter(torch.randn(1, num_patches, encoder_embedding_dim) * 0.02)\n",
    "        self.decoder_position_encoding = nn.Parameter(torch.randn(1, num_patches, decoder_embedding_dim) * 0.02)\n",
    "        self.masked_tokens = nn.Parameter(torch.randn(1, 1, decoder_embedding_dim) * 0.02)\n",
    "\n",
    "    def forward_encoder(self, images, ids_shuffle=None):\n",
    "        \"\"\"Encode input images\n",
    "        You should implement the following steps\n",
    "        (1) patchify images into patches\n",
    "        (2) linear projection\n",
    "        (3) add position encoding\n",
    "        (4) mask out some of the patches\n",
    "        (5) concatenate cls_token and patches embedding and pass it to vit encoder\n",
    "        \"\"\"\n",
    "        batch_size = images.shape[0]\n",
    "        # Generate random shuffling indices\n",
    "        if ids_shuffle is None:\n",
    "            ids_shuffle = torch.argsort(\n",
    "                torch.rand(\n",
    "                    (batch_size, self.num_patches),\n",
    "                    device=images.device\n",
    "                ),\n",
    "                dim=1\n",
    "            )\n",
    "        # BEGIN YOUR CODE\n",
    "        patched_images = patchify(images, patch_size=self.patch_size)\n",
    "        embedded_images = self.encoder_input_projection(patched_images)\n",
    "        embedded_images += self.encoder_position_encoding\n",
    "        kept, mask, ids_restore = random_masking(embedded_images, self.keep_length, ids_shuffle)\n",
    "        encoder_input = torch.concat([self.cls_token.repeat(batch_size, 1, 1), kept], dim=1)\n",
    "        encoder_output = self.encoder(encoder_input)\n",
    "        return encoder_output, mask, ids_restore\n",
    "\n",
    "        # END YOUR CODE\n",
    "\n",
    "    def forward_decoder(self, encoder_embeddings, ids_restore):\n",
    "        \"\"\"Decode encoder embeddings\n",
    "        You should implement the following steps\n",
    "        (1) linear projection of encoder embeddings\n",
    "        (2) restore sequence from masked_patches and encoder predictions\n",
    "            We need our decoder output to have the same number of tokens as the original patched input, \n",
    "            but our encoder currently is missing some tokens that we masked out. We need to add some dummy \n",
    "            tokens back to our embedded tokens so when our decoder outputs, it has the correct number of \n",
    "            tokens that can be interpreted as sequential patches of output image.\n",
    "            During this step, you should remove the CLS token from the sequence.\n",
    "        (3) add position encoding\n",
    "        (3) re-concatenate/use CLS token and decode using ViT decoder \n",
    "        (4) projection to predict image patches\n",
    "        \"\"\"\n",
    "        # BEGIN YOUR CODE\n",
    "        batch_size, sequence_length = ids_restore.shape\n",
    "        decoder_projected = self.decoder_input_projection(encoder_embeddings)\n",
    "        cls_token = decoder_projected[:, 0:1]\n",
    "        projected = decoder_projected[:, 1:]\n",
    "        dummy_tokens = self.masked_tokens.repeat(batch_size, sequence_length - self.keep_length, 1)\n",
    "        restored = restore_masked(projected, dummy_tokens, ids_restore)\n",
    "        decoder_input = restored + self.decoder_position_encoding\n",
    "        decoder_input = torch.concat([cls_token, decoder_input], dim=1)\n",
    "        decoder_output = self.decoder(decoder_input)[:, 1:]\n",
    "        decoder_output = self.decoder_output_projection(decoder_output)\n",
    "        return decoder_output\n",
    "        \n",
    "        # END YOUR CODE\n",
    "\n",
    "    def forward(self, images):\n",
    "        encoder_output, mask, ids_restore = self.forward_encoder(images)\n",
    "        decoder_output = self.forward_decoder(encoder_output, ids_restore)\n",
    "        return decoder_output, mask\n",
    "\n",
    "    def forward_encoder_representation(self, images):\n",
    "        \"\"\"Encode images without applying random masking to get representation\n",
    "        of input images. \n",
    "\n",
    "        You should implement splitting images into patches, re-concatenate/use CLS token,\n",
    "        and encoding with ViT encoder.\n",
    "        \"\"\"\n",
    "        # BEGIN YOUR CODE\n",
    "        batch_size = images.shape[0]\n",
    "        patched_images = patchify(images, patch_size=self.patch_size)\n",
    "        embedded_images = self.encoder_input_projection(patched_images)\n",
    "        embedded_images += self.encoder_position_encoding\n",
    "        encoder_input = torch.concat([self.cls_token.repeat(batch_size, 1, 1), embedded_images], dim=1)\n",
    "        encoder_output = self.encoder(encoder_input)\n",
    "        return encoder_output\n",
    "        # END YOUR CODE\n",
    "\n",
    "# Initilize MAE model\n",
    "model = MaskedAutoEncoder(\n",
    "    Transformer(embedding_dim=256, n_layers=6),\n",
    "    Transformer(embedding_dim=128, n_layers=6),\n",
    "    patch_size=8,\n",
    "    num_patches=64\n",
    ")\n",
    "# Move the model to GPU\n",
    "model.to(torch_device)\n",
    "# Create optimizer\n",
    "\n",
    "# You may want to tune these hyperparameters to get better performance\n",
    "optimizer = optim.AdamW(model.parameters(), lr=1e-4, betas=(0.9, 0.95), weight_decay=0.05)\n",
    "\n",
    "total_steps = 0\n",
    "num_epochs = 50\n",
    "train_logfreq = 100\n",
    "\n",
    "losses = []\n",
    "\n",
    "epoch_iterator = trange(num_epochs)\n",
    "for epoch in epoch_iterator:\n",
    "    # Train\n",
    "    data_iterator = tqdm(trainloader)\n",
    "    for x, y in data_iterator:\n",
    "        total_steps += 1\n",
    "        x = x.to(torch_device)\n",
    "        image_patches = patchify(x, patch_size=model.patch_size)\n",
    "        predicted_patches, mask = model(x)\n",
    "        loss = torch.sum(torch.mean(torch.square(image_patches - predicted_patches), dim=-1) * mask) / mask.sum()\n",
    "        optimizer.zero_grad()\n",
    "        loss.backward()\n",
    "        optimizer.step()\n",
    "\n",
    "        data_iterator.set_postfix(loss=loss.item())\n",
    "        if total_steps % train_logfreq == 0:\n",
    "            losses.append(loss.item())\n",
    "\n",
    "    # Periodically save model\n",
    "    torch.save(model.state_dict(), os.path.join(root_folder, \"mae_pretrained.pt\"))\n",
    "\n",
    "plt.plot(losses)\n",
    "plt.title('MAE Train Loss')\n"
   ]
  },
  {
   "cell_type": "code",
   "execution_count": 43,
   "metadata": {},
   "outputs": [],
   "source": [
    "class SegmentationMAE(nn.Module):\n",
    "    \"\"\"A linear classifier is trained on self-supervised representations learned by MAE. \n",
    "    Args:\n",
    "        n_classes: number of classes\n",
    "        mae: mae model\n",
    "        embedding_dim: embedding dimension of mae output\n",
    "        detach: if True, only the classification head is updated.\n",
    "    \"\"\"\n",
    "    def __init__(self, mae, embedding_dim=256, detach=False):\n",
    "        super().__init__()\n",
    "        self.embedding_dim = embedding_dim\n",
    "        self.mae = mae\n",
    "        self.mae.mask_ratio = 0\n",
    "        \"\"\"\n",
    "        When self.detach=True, use linear classification, when self.detach=False,\n",
    "        use full finetuning.\n",
    "        \"\"\"\n",
    "        self.detach = detach\n",
    "\n",
    "    def forward(self, images):\n",
    "        \"\"\"\n",
    "        Args:\n",
    "            Images: batch of images\n",
    "        Returns:\n",
    "            logits: batch of logits from the ouput_head\n",
    "        Remember to detach the representations if self.detach=True, and \n",
    "        Remember that we do not use masking here.\n",
    "        \"\"\"\n",
    "        # BEGIN YOUR CODE\n",
    "        mae_output = self.mae(images)[0]\n",
    "        output = unpatchify(mae_output, 8)\n",
    "        return output\n",
    "        # END YOUR CODE\n",
    "\n",
    "\n"
   ]
  },
  {
   "cell_type": "code",
   "execution_count": 41,
   "metadata": {},
   "outputs": [
    {
     "data": {
      "application/vnd.jupyter.widget-view+json": {
       "model_id": "a7dad894e0df4a6896df3da54583d98e",
       "version_major": 2,
       "version_minor": 0
      },
      "text/plain": [
       "  0%|          | 0/20 [00:00<?, ?it/s]"
      ]
     },
     "metadata": {},
     "output_type": "display_data"
    },
    {
     "data": {
      "application/vnd.jupyter.widget-view+json": {
       "model_id": "e840bef9928646ba8626b21ac142d8fe",
       "version_major": 2,
       "version_minor": 0
      },
      "text/plain": [
       "  0%|          | 0/179 [00:00<?, ?it/s]"
      ]
     },
     "metadata": {},
     "output_type": "display_data"
    },
    {
     "data": {
      "application/vnd.jupyter.widget-view+json": {
       "model_id": "9c97c39ad4cf414ca9e2dd6715a6cf62",
       "version_major": 2,
       "version_minor": 0
      },
      "text/plain": [
       "  0%|          | 0/179 [00:00<?, ?it/s]"
      ]
     },
     "metadata": {},
     "output_type": "display_data"
    },
    {
     "data": {
      "application/vnd.jupyter.widget-view+json": {
       "model_id": "60fc8a9bd1874e89872aec5e358ddf6d",
       "version_major": 2,
       "version_minor": 0
      },
      "text/plain": [
       "  0%|          | 0/179 [00:00<?, ?it/s]"
      ]
     },
     "metadata": {},
     "output_type": "display_data"
    },
    {
     "data": {
      "application/vnd.jupyter.widget-view+json": {
       "model_id": "c6b52db9640746b2b01246ff33a5bcb0",
       "version_major": 2,
       "version_minor": 0
      },
      "text/plain": [
       "  0%|          | 0/179 [00:00<?, ?it/s]"
      ]
     },
     "metadata": {},
     "output_type": "display_data"
    },
    {
     "data": {
      "application/vnd.jupyter.widget-view+json": {
       "model_id": "4c17f27730434c7792bfff5b833f0c94",
       "version_major": 2,
       "version_minor": 0
      },
      "text/plain": [
       "  0%|          | 0/179 [00:00<?, ?it/s]"
      ]
     },
     "metadata": {},
     "output_type": "display_data"
    },
    {
     "data": {
      "application/vnd.jupyter.widget-view+json": {
       "model_id": "289985ee2fa04abe852c8cc0b98116fe",
       "version_major": 2,
       "version_minor": 0
      },
      "text/plain": [
       "  0%|          | 0/179 [00:00<?, ?it/s]"
      ]
     },
     "metadata": {},
     "output_type": "display_data"
    },
    {
     "data": {
      "application/vnd.jupyter.widget-view+json": {
       "model_id": "8ccb159c56b34668b0d3ffbb45ab22d9",
       "version_major": 2,
       "version_minor": 0
      },
      "text/plain": [
       "  0%|          | 0/179 [00:00<?, ?it/s]"
      ]
     },
     "metadata": {},
     "output_type": "display_data"
    },
    {
     "data": {
      "application/vnd.jupyter.widget-view+json": {
       "model_id": "a96d7b0347a9439d84235a3dc55aeda8",
       "version_major": 2,
       "version_minor": 0
      },
      "text/plain": [
       "  0%|          | 0/179 [00:00<?, ?it/s]"
      ]
     },
     "metadata": {},
     "output_type": "display_data"
    },
    {
     "data": {
      "application/vnd.jupyter.widget-view+json": {
       "model_id": "1a2eb1960d054f65a72718e0d9397e36",
       "version_major": 2,
       "version_minor": 0
      },
      "text/plain": [
       "  0%|          | 0/179 [00:00<?, ?it/s]"
      ]
     },
     "metadata": {},
     "output_type": "display_data"
    },
    {
     "data": {
      "application/vnd.jupyter.widget-view+json": {
       "model_id": "0d35486957594eb1a6ce87e5f244c091",
       "version_major": 2,
       "version_minor": 0
      },
      "text/plain": [
       "  0%|          | 0/179 [00:00<?, ?it/s]"
      ]
     },
     "metadata": {},
     "output_type": "display_data"
    },
    {
     "data": {
      "application/vnd.jupyter.widget-view+json": {
       "model_id": "1d7560d564704b599e05144aa41aebdd",
       "version_major": 2,
       "version_minor": 0
      },
      "text/plain": [
       "  0%|          | 0/179 [00:00<?, ?it/s]"
      ]
     },
     "metadata": {},
     "output_type": "display_data"
    },
    {
     "data": {
      "application/vnd.jupyter.widget-view+json": {
       "model_id": "959ba97ca02a4a0680e3ac3345db3947",
       "version_major": 2,
       "version_minor": 0
      },
      "text/plain": [
       "  0%|          | 0/179 [00:00<?, ?it/s]"
      ]
     },
     "metadata": {},
     "output_type": "display_data"
    },
    {
     "data": {
      "application/vnd.jupyter.widget-view+json": {
       "model_id": "d99522fdd0c54263a9ec8b260b6b7f27",
       "version_major": 2,
       "version_minor": 0
      },
      "text/plain": [
       "  0%|          | 0/179 [00:00<?, ?it/s]"
      ]
     },
     "metadata": {},
     "output_type": "display_data"
    },
    {
     "data": {
      "application/vnd.jupyter.widget-view+json": {
       "model_id": "e28771cbae994b35aafcfd13b41ed6e3",
       "version_major": 2,
       "version_minor": 0
      },
      "text/plain": [
       "  0%|          | 0/179 [00:00<?, ?it/s]"
      ]
     },
     "metadata": {},
     "output_type": "display_data"
    },
    {
     "data": {
      "application/vnd.jupyter.widget-view+json": {
       "model_id": "d0741fd0b0a54a44ae52186a2720036a",
       "version_major": 2,
       "version_minor": 0
      },
      "text/plain": [
       "  0%|          | 0/179 [00:00<?, ?it/s]"
      ]
     },
     "metadata": {},
     "output_type": "display_data"
    },
    {
     "data": {
      "application/vnd.jupyter.widget-view+json": {
       "model_id": "9320defb28c143829c64fad768a7b909",
       "version_major": 2,
       "version_minor": 0
      },
      "text/plain": [
       "  0%|          | 0/179 [00:00<?, ?it/s]"
      ]
     },
     "metadata": {},
     "output_type": "display_data"
    },
    {
     "data": {
      "application/vnd.jupyter.widget-view+json": {
       "model_id": "34e7f39ea0c04e76a1f81ecd7d3b9445",
       "version_major": 2,
       "version_minor": 0
      },
      "text/plain": [
       "  0%|          | 0/179 [00:00<?, ?it/s]"
      ]
     },
     "metadata": {},
     "output_type": "display_data"
    },
    {
     "data": {
      "application/vnd.jupyter.widget-view+json": {
       "model_id": "fc44777971944d9abd45390900f0700f",
       "version_major": 2,
       "version_minor": 0
      },
      "text/plain": [
       "  0%|          | 0/179 [00:00<?, ?it/s]"
      ]
     },
     "metadata": {},
     "output_type": "display_data"
    },
    {
     "data": {
      "application/vnd.jupyter.widget-view+json": {
       "model_id": "5e34ed923e744d81870756f6e57088de",
       "version_major": 2,
       "version_minor": 0
      },
      "text/plain": [
       "  0%|          | 0/179 [00:00<?, ?it/s]"
      ]
     },
     "metadata": {},
     "output_type": "display_data"
    },
    {
     "data": {
      "application/vnd.jupyter.widget-view+json": {
       "model_id": "67a61c5ef29d4192a6d8bdfaef57f3cc",
       "version_major": 2,
       "version_minor": 0
      },
      "text/plain": [
       "  0%|          | 0/179 [00:00<?, ?it/s]"
      ]
     },
     "metadata": {},
     "output_type": "display_data"
    },
    {
     "data": {
      "text/plain": [
       "Text(0.5, 1.0, 'Linear Classification Val Accuracy')"
      ]
     },
     "execution_count": 41,
     "metadata": {},
     "output_type": "execute_result"
    },
    {
     "data": {
      "image/png": "[encoded data removed]",
      "text/plain": [
       "<Figure size 432x288 with 1 Axes>"
      ]
     },
     "metadata": {},
     "output_type": "display_data"
    },
    {
     "data": {
      "image/png": "[encoded data removed]",
      "text/plain": [
       "<Figure size 432x288 with 1 Axes>"
      ]
     },
     "metadata": {},
     "output_type": "display_data"
    },
    {
     "data": {
      "image/png": "[encoded data removed]",
      "text/plain": [
       "<Figure size 432x288 with 1 Axes>"
      ]
     },
     "metadata": {},
     "output_type": "display_data"
    }
   ],
   "source": [
    "#@title Test your implementation\n",
    "mae = MaskedAutoEncoder(\n",
    "    Transformer(embedding_dim=256, n_layers=6),\n",
    "    Transformer(embedding_dim=128, n_layers=6),\n",
    "    patch_size=8,\n",
    "    num_patches=64\n",
    ")\n",
    "mae.load_state_dict(torch.load(os.path.join(root_folder, \"mae_pretrained.pt\")))\n",
    "\n",
    "# Initilize classification model; set detach=True to only update the linear classifier. \n",
    "model = SegmentationMAE(mae, detach=True)\n",
    "model.to(torch_device)\n",
    "\n",
    "# You may want to tune these hyperparameters to get better performance\n",
    "optimizer = optim.AdamW(model.parameters(), lr=1e-4, betas=(0.9, 0.95), weight_decay=1e-9)\n",
    "\n",
    "total_steps = 0\n",
    "num_epochs = 50\n",
    "train_logfreq = 100\n",
    "losses = []\n",
    "train_acc = []\n",
    "all_val_acc = []\n",
    "best_val_acc = 0\n",
    "\n",
    "epoch_iterator = trange(num_epochs)\n",
    "for epoch in epoch_iterator:\n",
    "    # Train\n",
    "    data_iterator = tqdm(trainloader)\n",
    "    for x, y in data_iterator:\n",
    "        total_steps += 1\n",
    "        x, y = x.to(torch_device), y.to(torch_device).float()\n",
    "        logits = model(x)\n",
    "        loss = torch.mean(F.binary_cross_entropy_with_logits(logits, y))\n",
    "        accuracy = ((logits > 0) & (y == 1)).count_nonzero() / ((logits > 0) | (y == 1)).count_nonzero()\n",
    "        optimizer.zero_grad()\n",
    "        loss.backward()\n",
    "        optimizer.step()\n",
    "\n",
    "        data_iterator.set_postfix(loss=loss.item(), train_acc=accuracy.item())\n",
    "\n",
    "        if total_steps % train_logfreq == 0:\n",
    "            losses.append(loss.item())\n",
    "            train_acc.append(accuracy.item())\n",
    "\n",
    "    # Validation\n",
    "    val_acc = []\n",
    "    model.eval()\n",
    "    for x, y in testloader:\n",
    "        x, y = x.to(torch_device), y.to(torch_device).float()\n",
    "        with torch.no_grad():\n",
    "          logits = model(x)\n",
    "        accuracy = ((logits > 0) & (y == 1)).count_nonzero() / ((logits > 0) | (y == 1)).count_nonzero()\n",
    "        val_acc.append(accuracy.item())\n",
    "\n",
    "    model.train()\n",
    "\n",
    "    all_val_acc.append(np.mean(val_acc))\n",
    "\n",
    "    # Save best model\n",
    "    if np.mean(val_acc) > best_val_acc:\n",
    "        best_val_acc = np.mean(val_acc)\n",
    "\n",
    "    epoch_iterator.set_postfix(val_acc=np.mean(val_acc), best_val_acc=best_val_acc)\n",
    "\n",
    "plt.plot(losses)\n",
    "plt.title('Linear Classification Train Loss')\n",
    "plt.figure()\n",
    "plt.plot(train_acc)\n",
    "plt.title('Linear Classification Train Accuracy')\n",
    "plt.figure()\n",
    "plt.plot(all_val_acc)\n",
    "plt.title('Linear Classification Val Accuracy')"
   ]
  },
  {
   "cell_type": "code",
   "execution_count": 44,
   "metadata": {},
   "outputs": [
    {
     "data": {
      "application/vnd.jupyter.widget-view+json": {
       "model_id": "c4bfa072f48748ac880141adabfe5e72",
       "version_major": 2,
       "version_minor": 0
      },
      "text/plain": [
       "  0%|          | 0/50 [00:00<?, ?it/s]"
      ]
     },
     "metadata": {},
     "output_type": "display_data"
    },
    {
     "data": {
      "application/vnd.jupyter.widget-view+json": {
       "model_id": "6f678648b64d4b08bb1b4c661f262d67",
       "version_major": 2,
       "version_minor": 0
      },
      "text/plain": [
       "  0%|          | 0/179 [00:00<?, ?it/s]"
      ]
     },
     "metadata": {},
     "output_type": "display_data"
    },
    {
     "data": {
      "application/vnd.jupyter.widget-view+json": {
       "model_id": "3a001e622d7f4a46a77b9ab8c68fb099",
       "version_major": 2,
       "version_minor": 0
      },
      "text/plain": [
       "  0%|          | 0/179 [00:00<?, ?it/s]"
      ]
     },
     "metadata": {},
     "output_type": "display_data"
    },
    {
     "data": {
      "application/vnd.jupyter.widget-view+json": {
       "model_id": "3684ff5667ee46dd9412ea0d4c6b0bd4",
       "version_major": 2,
       "version_minor": 0
      },
      "text/plain": [
       "  0%|          | 0/179 [00:00<?, ?it/s]"
      ]
     },
     "metadata": {},
     "output_type": "display_data"
    },
    {
     "data": {
      "application/vnd.jupyter.widget-view+json": {
       "model_id": "69242c2d48ba443e8599f36e690e0548",
       "version_major": 2,
       "version_minor": 0
      },
      "text/plain": [
       "  0%|          | 0/179 [00:00<?, ?it/s]"
      ]
     },
     "metadata": {},
     "output_type": "display_data"
    },
    {
     "data": {
      "application/vnd.jupyter.widget-view+json": {
       "model_id": "a9562b3e78ab45998791bb02d4c17b35",
       "version_major": 2,
       "version_minor": 0
      },
      "text/plain": [
       "  0%|          | 0/179 [00:00<?, ?it/s]"
      ]
     },
     "metadata": {},
     "output_type": "display_data"
    },
    {
     "data": {
      "application/vnd.jupyter.widget-view+json": {
       "model_id": "2e6b92a83df94076bbab6ba1a65201fc",
       "version_major": 2,
       "version_minor": 0
      },
      "text/plain": [
       "  0%|          | 0/179 [00:00<?, ?it/s]"
      ]
     },
     "metadata": {},
     "output_type": "display_data"
    },
    {
     "data": {
      "application/vnd.jupyter.widget-view+json": {
       "model_id": "54dbe570197940879365f62f8966c11e",
       "version_major": 2,
       "version_minor": 0
      },
      "text/plain": [
       "  0%|          | 0/179 [00:00<?, ?it/s]"
      ]
     },
     "metadata": {},
     "output_type": "display_data"
    },
    {
     "data": {
      "application/vnd.jupyter.widget-view+json": {
       "model_id": "7a9c6b7a36e049c7bd89ada9286efa41",
       "version_major": 2,
       "version_minor": 0
      },
      "text/plain": [
       "  0%|          | 0/179 [00:00<?, ?it/s]"
      ]
     },
     "metadata": {},
     "output_type": "display_data"
    },
    {
     "data": {
      "application/vnd.jupyter.widget-view+json": {
       "model_id": "6782bd69c98543bbb74ac75865d25739",
       "version_major": 2,
       "version_minor": 0
      },
      "text/plain": [
       "  0%|          | 0/179 [00:00<?, ?it/s]"
      ]
     },
     "metadata": {},
     "output_type": "display_data"
    },
    {
     "data": {
      "application/vnd.jupyter.widget-view+json": {
       "model_id": "08e7f16d19604f4f95bc26e37372cc53",
       "version_major": 2,
       "version_minor": 0
      },
      "text/plain": [
       "  0%|          | 0/179 [00:00<?, ?it/s]"
      ]
     },
     "metadata": {},
     "output_type": "display_data"
    },
    {
     "data": {
      "application/vnd.jupyter.widget-view+json": {
       "model_id": "ebf545a1fe8440c185c232d62864c4be",
       "version_major": 2,
       "version_minor": 0
      },
      "text/plain": [
       "  0%|          | 0/179 [00:00<?, ?it/s]"
      ]
     },
     "metadata": {},
     "output_type": "display_data"
    },
    {
     "data": {
      "application/vnd.jupyter.widget-view+json": {
       "model_id": "eea3e50b00c74b9e9d37663d39bc3ed3",
       "version_major": 2,
       "version_minor": 0
      },
      "text/plain": [
       "  0%|          | 0/179 [00:00<?, ?it/s]"
      ]
     },
     "metadata": {},
     "output_type": "display_data"
    },
    {
     "data": {
      "application/vnd.jupyter.widget-view+json": {
       "model_id": "fa04eaf7e9a14f3485917fcdcf517ed0",
       "version_major": 2,
       "version_minor": 0
      },
      "text/plain": [
       "  0%|          | 0/179 [00:00<?, ?it/s]"
      ]
     },
     "metadata": {},
     "output_type": "display_data"
    },
    {
     "data": {
      "application/vnd.jupyter.widget-view+json": {
       "model_id": "d68de6051bc749fa980cb4a074dcb8cd",
       "version_major": 2,
       "version_minor": 0
      },
      "text/plain": [
       "  0%|          | 0/179 [00:00<?, ?it/s]"
      ]
     },
     "metadata": {},
     "output_type": "display_data"
    },
    {
     "data": {
      "application/vnd.jupyter.widget-view+json": {
       "model_id": "7d86ccd361464ef09a8c46983883a886",
       "version_major": 2,
       "version_minor": 0
      },
      "text/plain": [
       "  0%|          | 0/179 [00:00<?, ?it/s]"
      ]
     },
     "metadata": {},
     "output_type": "display_data"
    },
    {
     "data": {
      "application/vnd.jupyter.widget-view+json": {
       "model_id": "9a1c8e84cfbb41b79cad5839e4601481",
       "version_major": 2,
       "version_minor": 0
      },
      "text/plain": [
       "  0%|          | 0/179 [00:00<?, ?it/s]"
      ]
     },
     "metadata": {},
     "output_type": "display_data"
    },
    {
     "data": {
      "application/vnd.jupyter.widget-view+json": {
       "model_id": "0a0e29e653f04e809f5f03228e991db8",
       "version_major": 2,
       "version_minor": 0
      },
      "text/plain": [
       "  0%|          | 0/179 [00:00<?, ?it/s]"
      ]
     },
     "metadata": {},
     "output_type": "display_data"
    },
    {
     "data": {
      "application/vnd.jupyter.widget-view+json": {
       "model_id": "10738edb832b439ba895982c445cb75b",
       "version_major": 2,
       "version_minor": 0
      },
      "text/plain": [
       "  0%|          | 0/179 [00:00<?, ?it/s]"
      ]
     },
     "metadata": {},
     "output_type": "display_data"
    },
    {
     "data": {
      "application/vnd.jupyter.widget-view+json": {
       "model_id": "73f42f9d24aa4439b600a6cad5fdc620",
       "version_major": 2,
       "version_minor": 0
      },
      "text/plain": [
       "  0%|          | 0/179 [00:00<?, ?it/s]"
      ]
     },
     "metadata": {},
     "output_type": "display_data"
    },
    {
     "data": {
      "application/vnd.jupyter.widget-view+json": {
       "model_id": "920bece1e6e44ad7a9f3ba1927df76ba",
       "version_major": 2,
       "version_minor": 0
      },
      "text/plain": [
       "  0%|          | 0/179 [00:00<?, ?it/s]"
      ]
     },
     "metadata": {},
     "output_type": "display_data"
    },
    {
     "data": {
      "application/vnd.jupyter.widget-view+json": {
       "model_id": "1a2365a9db854f66bf8f8ec77a2e94dc",
       "version_major": 2,
       "version_minor": 0
      },
      "text/plain": [
       "  0%|          | 0/179 [00:00<?, ?it/s]"
      ]
     },
     "metadata": {},
     "output_type": "display_data"
    },
    {
     "data": {
      "application/vnd.jupyter.widget-view+json": {
       "model_id": "1d10ca847e334770bbb213d50c63c58c",
       "version_major": 2,
       "version_minor": 0
      },
      "text/plain": [
       "  0%|          | 0/179 [00:00<?, ?it/s]"
      ]
     },
     "metadata": {},
     "output_type": "display_data"
    },
    {
     "data": {
      "application/vnd.jupyter.widget-view+json": {
       "model_id": "ecc3a13c5f034ad7b58093751dc13fe5",
       "version_major": 2,
       "version_minor": 0
      },
      "text/plain": [
       "  0%|          | 0/179 [00:00<?, ?it/s]"
      ]
     },
     "metadata": {},
     "output_type": "display_data"
    },
    {
     "data": {
      "application/vnd.jupyter.widget-view+json": {
       "model_id": "43f124f254f74125b7cf50defb70ed1e",
       "version_major": 2,
       "version_minor": 0
      },
      "text/plain": [
       "  0%|          | 0/179 [00:00<?, ?it/s]"
      ]
     },
     "metadata": {},
     "output_type": "display_data"
    },
    {
     "data": {
      "application/vnd.jupyter.widget-view+json": {
       "model_id": "5d90e99eb6b14a088ba2a4d5dab588e6",
       "version_major": 2,
       "version_minor": 0
      },
      "text/plain": [
       "  0%|          | 0/179 [00:00<?, ?it/s]"
      ]
     },
     "metadata": {},
     "output_type": "display_data"
    },
    {
     "data": {
      "application/vnd.jupyter.widget-view+json": {
       "model_id": "4b7c32eab1184c04af684076928f7bd9",
       "version_major": 2,
       "version_minor": 0
      },
      "text/plain": [
       "  0%|          | 0/179 [00:00<?, ?it/s]"
      ]
     },
     "metadata": {},
     "output_type": "display_data"
    },
    {
     "data": {
      "application/vnd.jupyter.widget-view+json": {
       "model_id": "88b1ef011bce448386770e68052adfce",
       "version_major": 2,
       "version_minor": 0
      },
      "text/plain": [
       "  0%|          | 0/179 [00:00<?, ?it/s]"
      ]
     },
     "metadata": {},
     "output_type": "display_data"
    },
    {
     "data": {
      "application/vnd.jupyter.widget-view+json": {
       "model_id": "af036d967284422aaf147593b2d351a1",
       "version_major": 2,
       "version_minor": 0
      },
      "text/plain": [
       "  0%|          | 0/179 [00:00<?, ?it/s]"
      ]
     },
     "metadata": {},
     "output_type": "display_data"
    },
    {
     "data": {
      "application/vnd.jupyter.widget-view+json": {
       "model_id": "90a7053ddfcb4566bd4bfbbdc37c4602",
       "version_major": 2,
       "version_minor": 0
      },
      "text/plain": [
       "  0%|          | 0/179 [00:00<?, ?it/s]"
      ]
     },
     "metadata": {},
     "output_type": "display_data"
    },
    {
     "data": {
      "application/vnd.jupyter.widget-view+json": {
       "model_id": "f2e468cb7d5d46fa8686a2c81a0c9a4a",
       "version_major": 2,
       "version_minor": 0
      },
      "text/plain": [
       "  0%|          | 0/179 [00:00<?, ?it/s]"
      ]
     },
     "metadata": {},
     "output_type": "display_data"
    },
    {
     "data": {
      "application/vnd.jupyter.widget-view+json": {
       "model_id": "275734cd87c740aeb85db076a739580e",
       "version_major": 2,
       "version_minor": 0
      },
      "text/plain": [
       "  0%|          | 0/179 [00:00<?, ?it/s]"
      ]
     },
     "metadata": {},
     "output_type": "display_data"
    },
    {
     "data": {
      "application/vnd.jupyter.widget-view+json": {
       "model_id": "ca142915199e45dc9c1b754dbd1b97f9",
       "version_major": 2,
       "version_minor": 0
      },
      "text/plain": [
       "  0%|          | 0/179 [00:00<?, ?it/s]"
      ]
     },
     "metadata": {},
     "output_type": "display_data"
    },
    {
     "data": {
      "application/vnd.jupyter.widget-view+json": {
       "model_id": "e34e7df3b6d545fba44bbccc7d4f70cb",
       "version_major": 2,
       "version_minor": 0
      },
      "text/plain": [
       "  0%|          | 0/179 [00:00<?, ?it/s]"
      ]
     },
     "metadata": {},
     "output_type": "display_data"
    },
    {
     "data": {
      "application/vnd.jupyter.widget-view+json": {
       "model_id": "defa1f044b174dff8e705b4ef8bcf658",
       "version_major": 2,
       "version_minor": 0
      },
      "text/plain": [
       "  0%|          | 0/179 [00:00<?, ?it/s]"
      ]
     },
     "metadata": {},
     "output_type": "display_data"
    },
    {
     "data": {
      "application/vnd.jupyter.widget-view+json": {
       "model_id": "c624304c0fea4a9b8c5af9fd7836cda3",
       "version_major": 2,
       "version_minor": 0
      },
      "text/plain": [
       "  0%|          | 0/179 [00:00<?, ?it/s]"
      ]
     },
     "metadata": {},
     "output_type": "display_data"
    },
    {
     "data": {
      "application/vnd.jupyter.widget-view+json": {
       "model_id": "0d59685418494362bf38e1606a15521b",
       "version_major": 2,
       "version_minor": 0
      },
      "text/plain": [
       "  0%|          | 0/179 [00:00<?, ?it/s]"
      ]
     },
     "metadata": {},
     "output_type": "display_data"
    },
    {
     "data": {
      "application/vnd.jupyter.widget-view+json": {
       "model_id": "eb8240ed55df42edac51e6806856edc4",
       "version_major": 2,
       "version_minor": 0
      },
      "text/plain": [
       "  0%|          | 0/179 [00:00<?, ?it/s]"
      ]
     },
     "metadata": {},
     "output_type": "display_data"
    },
    {
     "data": {
      "application/vnd.jupyter.widget-view+json": {
       "model_id": "b57a05cf1aa54ce29bb54b494f1498d1",
       "version_major": 2,
       "version_minor": 0
      },
      "text/plain": [
       "  0%|          | 0/179 [00:00<?, ?it/s]"
      ]
     },
     "metadata": {},
     "output_type": "display_data"
    },
    {
     "data": {
      "application/vnd.jupyter.widget-view+json": {
       "model_id": "c2bc20d7ad914a0f8ede9d25e73b6c07",
       "version_major": 2,
       "version_minor": 0
      },
      "text/plain": [
       "  0%|          | 0/179 [00:00<?, ?it/s]"
      ]
     },
     "metadata": {},
     "output_type": "display_data"
    },
    {
     "data": {
      "application/vnd.jupyter.widget-view+json": {
       "model_id": "2f4ab50c369548dd9b020b7f81e6d820",
       "version_major": 2,
       "version_minor": 0
      },
      "text/plain": [
       "  0%|          | 0/179 [00:00<?, ?it/s]"
      ]
     },
     "metadata": {},
     "output_type": "display_data"
    },
    {
     "data": {
      "application/vnd.jupyter.widget-view+json": {
       "model_id": "b0de5a1d26ab448b8b1d2fb732f74bd3",
       "version_major": 2,
       "version_minor": 0
      },
      "text/plain": [
       "  0%|          | 0/179 [00:00<?, ?it/s]"
      ]
     },
     "metadata": {},
     "output_type": "display_data"
    },
    {
     "data": {
      "application/vnd.jupyter.widget-view+json": {
       "model_id": "e634fac04e294495a6d97004d7f81aba",
       "version_major": 2,
       "version_minor": 0
      },
      "text/plain": [
       "  0%|          | 0/179 [00:00<?, ?it/s]"
      ]
     },
     "metadata": {},
     "output_type": "display_data"
    },
    {
     "data": {
      "application/vnd.jupyter.widget-view+json": {
       "model_id": "1ebdca4f38914a17a4d607a8326f1e39",
       "version_major": 2,
       "version_minor": 0
      },
      "text/plain": [
       "  0%|          | 0/179 [00:00<?, ?it/s]"
      ]
     },
     "metadata": {},
     "output_type": "display_data"
    },
    {
     "data": {
      "application/vnd.jupyter.widget-view+json": {
       "model_id": "b1673cbac5604ddd90a9921d007c987f",
       "version_major": 2,
       "version_minor": 0
      },
      "text/plain": [
       "  0%|          | 0/179 [00:00<?, ?it/s]"
      ]
     },
     "metadata": {},
     "output_type": "display_data"
    },
    {
     "data": {
      "application/vnd.jupyter.widget-view+json": {
       "model_id": "e04df27d542c4cb981ed031a55d9c86c",
       "version_major": 2,
       "version_minor": 0
      },
      "text/plain": [
       "  0%|          | 0/179 [00:00<?, ?it/s]"
      ]
     },
     "metadata": {},
     "output_type": "display_data"
    },
    {
     "data": {
      "application/vnd.jupyter.widget-view+json": {
       "model_id": "37b57842ca094a048720bdafc96b07b7",
       "version_major": 2,
       "version_minor": 0
      },
      "text/plain": [
       "  0%|          | 0/179 [00:00<?, ?it/s]"
      ]
     },
     "metadata": {},
     "output_type": "display_data"
    },
    {
     "data": {
      "application/vnd.jupyter.widget-view+json": {
       "model_id": "8e197601cc274f4fa76a165480baca4e",
       "version_major": 2,
       "version_minor": 0
      },
      "text/plain": [
       "  0%|          | 0/179 [00:00<?, ?it/s]"
      ]
     },
     "metadata": {},
     "output_type": "display_data"
    },
    {
     "data": {
      "application/vnd.jupyter.widget-view+json": {
       "model_id": "ca7866e75d794e2294961deeb644d503",
       "version_major": 2,
       "version_minor": 0
      },
      "text/plain": [
       "  0%|          | 0/179 [00:00<?, ?it/s]"
      ]
     },
     "metadata": {},
     "output_type": "display_data"
    },
    {
     "data": {
      "application/vnd.jupyter.widget-view+json": {
       "model_id": "b4912c872caf49efba5da43e25df3c73",
       "version_major": 2,
       "version_minor": 0
      },
      "text/plain": [
       "  0%|          | 0/179 [00:00<?, ?it/s]"
      ]
     },
     "metadata": {},
     "output_type": "display_data"
    },
    {
     "data": {
      "application/vnd.jupyter.widget-view+json": {
       "model_id": "d4722f04959846608fddd19cb2e2595a",
       "version_major": 2,
       "version_minor": 0
      },
      "text/plain": [
       "  0%|          | 0/179 [00:00<?, ?it/s]"
      ]
     },
     "metadata": {},
     "output_type": "display_data"
    },
    {
     "data": {
      "text/plain": [
       "Text(0.5, 1.0, 'Linear Classification Val Accuracy')"
      ]
     },
     "execution_count": 44,
     "metadata": {},
     "output_type": "execute_result"
    },
    {
     "data": {
      "image/png": "[encoded data removed]",
      "text/plain": [
       "<Figure size 432x288 with 1 Axes>"
      ]
     },
     "metadata": {},
     "output_type": "display_data"
    },
    {
     "data": {
      "image/png": "[encoded data removed]",
      "text/plain": [
       "<Figure size 432x288 with 1 Axes>"
      ]
     },
     "metadata": {},
     "output_type": "display_data"
    },
    {
     "data": {
      "image/png": "[encoded data removed]",
      "text/plain": [
       "<Figure size 432x288 with 1 Axes>"
      ]
     },
     "metadata": {},
     "output_type": "display_data"
    }
   ],
   "source": [
    "#@title Test your implementation\n",
    "mae = MaskedAutoEncoder(\n",
    "    Transformer(embedding_dim=256, n_layers=6),\n",
    "    Transformer(embedding_dim=128, n_layers=6),\n",
    "    patch_size=8,\n",
    "    num_patches=64\n",
    ")\n",
    "mae.load_state_dict(torch.load(os.path.join(root_folder, \"mae_pretrained.pt\")))\n",
    "\n",
    "# Initilize classification model; set detach=True to only update the linear classifier. \n",
    "model = SegmentationMAE(mae, detach=True)\n",
    "model.to(torch_device)\n",
    "\n",
    "# You may want to tune these hyperparameters to get better performance\n",
    "optimizer = optim.AdamW(model.parameters(), lr=1e-4, betas=(0.9, 0.95), weight_decay=1e-9)\n",
    "\n",
    "total_steps = 0\n",
    "num_epochs = 50\n",
    "train_logfreq = 100\n",
    "losses = []\n",
    "train_acc = []\n",
    "all_val_acc = []\n",
    "best_val_acc = 0\n",
    "\n",
    "epoch_iterator = trange(num_epochs)\n",
    "for epoch in epoch_iterator:\n",
    "    # Train\n",
    "    data_iterator = tqdm(trainloader)\n",
    "    for x, y in data_iterator:\n",
    "        total_steps += 1\n",
    "        x, y = x.to(torch_device), y.to(torch_device).float()\n",
    "        logits = model(x)\n",
    "        loss = torch.mean(F.binary_cross_entropy_with_logits(logits, y))\n",
    "        accuracy = ((logits > 0) & (y == 1)).count_nonzero() / ((logits > 0) | (y == 1)).count_nonzero()\n",
    "        optimizer.zero_grad()\n",
    "        loss.backward()\n",
    "        optimizer.step()\n",
    "\n",
    "        data_iterator.set_postfix(loss=loss.item(), train_acc=accuracy.item())\n",
    "\n",
    "        if total_steps % train_logfreq == 0:\n",
    "            losses.append(loss.item())\n",
    "            train_acc.append(accuracy.item())\n",
    "\n",
    "    # Validation\n",
    "    val_acc = []\n",
    "    model.eval()\n",
    "    for x, y in testloader:\n",
    "        x, y = x.to(torch_device), y.to(torch_device).float()\n",
    "        with torch.no_grad():\n",
    "          logits = model(x)\n",
    "        accuracy = ((logits > 0) & (y == 1)).count_nonzero() / ((logits > 0) | (y == 1)).count_nonzero()\n",
    "        val_acc.append(accuracy.item())\n",
    "\n",
    "    model.train()\n",
    "\n",
    "    all_val_acc.append(np.mean(val_acc))\n",
    "\n",
    "    # Save best model\n",
    "    if np.mean(val_acc) > best_val_acc:\n",
    "        best_val_acc = np.mean(val_acc)\n",
    "\n",
    "    epoch_iterator.set_postfix(val_acc=np.mean(val_acc), best_val_acc=best_val_acc)\n",
    "\n",
    "plt.plot(losses)\n",
    "plt.title('Linear Classification Train Loss')\n",
    "plt.figure()\n",
    "plt.plot(train_acc)\n",
    "plt.title('Linear Classification Train Accuracy')\n",
    "plt.figure()\n",
    "plt.plot(all_val_acc)\n",
    "plt.title('Linear Classification Val Accuracy')"
   ]
  },
  {
   "cell_type": "code",
   "execution_count": null,
   "metadata": {},
   "outputs": [],
   "source": []
  }
 ],
 "metadata": {
  "kernelspec": {
   "display_name": "Python 3.9.12 ('base': conda)",
   "language": "python",
   "name": "python3"
  },
  "language_info": {
   "codemirror_mode": {
    "name": "ipython",
    "version": 3
   },
   "file_extension": ".py",
   "mimetype": "text/x-python",
   "name": "python",
   "nbconvert_exporter": "python",
   "pygments_lexer": "ipython3",
   "version": "3.9.12"
  },
  "orig_nbformat": 4,
  "vscode": {
   "interpreter": {
    "hash": "24ed5096eae9d1d51f3453e07736a83aafded0970b93f89b73ef375a69b11d68"
   }
  }
 },
 "nbformat": 4,
 "nbformat_minor": 2
}
